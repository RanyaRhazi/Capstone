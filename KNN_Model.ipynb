{
 "cells": [
  {
   "cell_type": "code",
   "execution_count": 21,
   "id": "7e546e51-6d6d-48d4-b0c7-5de28b262553",
   "metadata": {},
   "outputs": [
    {
     "name": "stdout",
     "output_type": "stream",
     "text": [
      "Test accuracy: 0.9888888888888889\n"
     ]
    },
    {
     "data": {
      "text/plain": [
       "['scaler.pkl']"
      ]
     },
     "execution_count": 21,
     "metadata": {},
     "output_type": "execute_result"
    }
   ],
   "source": [
    "from sklearn.neighbors import KNeighborsClassifier\n",
    "from sklearn.datasets import load_digits\n",
    "from sklearn.model_selection import train_test_split\n",
    "from sklearn.preprocessing import MinMaxScaler\n",
    "\n",
    "digits = load_digits()\n",
    "X_train, X_test, y_train, y_test = train_test_split(digits.data, digits.target, test_size=0.25, random_state=0)\n",
    "\n",
    "scaler = MinMaxScaler()\n",
    "X_train_scaled = scaler.fit_transform(X_train)\n",
    "X_test_scaled = scaler.transform(X_test)\n",
    "\n",
    "knn = KNeighborsClassifier(n_neighbors=3)\n",
    "knn.fit(X_train_scaled, y_train)\n",
    "\n",
    "print(f\"Test accuracy: {knn.score(X_test_scaled, y_test)}\")\n",
    "\n",
    "import joblib\n",
    "joblib.dump(knn, 'knn_model.pkl')\n",
    "joblib.dump(scaler, 'scaler.pkl')"
   ]
  },
  {
   "cell_type": "code",
   "execution_count": 23,
   "id": "854f23a6-285b-48cb-a1f5-7350f30f0043",
   "metadata": {},
   "outputs": [
    {
     "name": "stdout",
     "output_type": "stream",
     "text": [
      "{\"image\": [0.0, 0.0, 0.6875, 1.0, 0.9375, 0.1875, 0.0, 0.0, 0.0, 0.3125, 1.0, 0.75, 0.6875, 0.8125, 0.0, 0.0, 0.0, 0.1875, 0.8125, 0.0625, 0.3125, 0.9375, 0.0, 0.0, 0.0, 0.0, 0.0, 0.0, 0.75, 0.6875, 0.0, 0.0, 0.0, 0.0, 0.0, 0.0625, 1.0, 0.4375, 0.0, 0.0, 0.0, 0.0, 0.0, 0.625, 0.9375, 0.0, 0.0, 0.0, 0.0, 0.0, 0.75, 1.0, 1.0, 0.6875, 0.0625, 0.0, 0.0, 0.0, 0.8125, 0.8125, 0.5, 0.8125, 1.0, 0.5]}\n"
     ]
    }
   ],
   "source": [
    "import numpy as np\n",
    "import json\n",
    "\n",
    "sample_data = X_test_scaled[0].tolist()  \n",
    "data_json = json.dumps({\"image\": sample_data})\n",
    "\n",
    "print(data_json)"
   ]
  },
  {
   "cell_type": "code",
   "execution_count": null,
   "id": "e2f45ac2-202f-45e6-9e43-d34ab33a8d7b",
   "metadata": {},
   "outputs": [],
   "source": []
  }
 ],
 "metadata": {
  "kernelspec": {
   "display_name": "Python 3 (ipykernel)",
   "language": "python",
   "name": "python3"
  },
  "language_info": {
   "codemirror_mode": {
    "name": "ipython",
    "version": 3
   },
   "file_extension": ".py",
   "mimetype": "text/x-python",
   "name": "python",
   "nbconvert_exporter": "python",
   "pygments_lexer": "ipython3",
   "version": "3.11.5"
  }
 },
 "nbformat": 4,
 "nbformat_minor": 5
}
